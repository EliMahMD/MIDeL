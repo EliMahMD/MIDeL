{
  "nbformat": 4,
  "nbformat_minor": 0,
  "metadata": {
    "colab": {
      "name": "zz_test1.ipynb",
      "provenance": []
    },
    "kernelspec": {
      "name": "python3",
      "display_name": "Python 3"
    },
    "language_info": {
      "name": "python"
    }
  },
  "cells": [
    {
      "cell_type": "markdown",
      "source": [
        "[![Open In Colab](https://colab.research.google.com/assets/colab-badge.svg)](https://colab.research.google.com/github/Mayo-Radiology-Informatics-Lab/MIDeL-Chapters/blob/main/test/zz_test1.ipynb)"
      ],
      "metadata": {
        "id": "_fUtIGm-uapl"
      }
    },
    {
      "cell_type": "markdown",
      "source": [
        "# Colab Notebook used for testing"
      ],
      "metadata": {
        "id": "k9TkVLzkRvq1"
      }
    },
    {
      "cell_type": "markdown",
      "source": [
        "Add some text here"
      ],
      "metadata": {
        "id": "VkBs_7MKnpg6"
      }
    },
    {
      "cell_type": "code",
      "execution_count": null,
      "metadata": {
        "colab": {
          "base_uri": "https://localhost:8080/",
          "height": 37
        },
        "id": "6VVoktFNRrGX",
        "outputId": "509e6bfd-2019-4edc-f853-c216bcaa8c1c"
      },
      "outputs": [
        {
          "output_type": "execute_result",
          "data": {
            "application/vnd.google.colaboratory.intrinsic+json": {
              "type": "string"
            },
            "text/plain": [
              "'1.19.5'"
            ]
          },
          "metadata": {},
          "execution_count": 2
        }
      ],
      "source": [
        "import numpy as np\n",
        "np.__version__"
      ]
    },
    {
      "cell_type": "markdown",
      "source": [
        "Insert an image:\n",
        "<br><img src=\"https://raw.githubusercontent.com/Mayo-Radiology-Informatics-Lab/MIDeL-Chapters/main/img/zz_test_image_1.png\" alt=\"test image\">"
      ],
      "metadata": {
        "id": "7Fr_gA3bmnBS"
      }
    }
  ]
}