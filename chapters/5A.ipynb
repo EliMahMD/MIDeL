{
 "cells": [
  {
   "cell_type": "markdown",
   "metadata": {
    "id": "egUaElAN91G2"
   },
   "source": [
    "[![Open In Colab](https://colab.research.google.com/assets/colab-badge.svg)](https://colab.research.google.com/github/Mayo-Radiology-Informatics-Lab/MIDeL/blob/main/chapters/5A.ipynb)"
   ]
  },
  {
   "cell_type": "markdown",
   "metadata": {
    "id": "wq9xiIee9wlC"
   },
   "source": [
    "*Author: Jaidip Jagtap, PhD; Yashbir Singh, PhD*"
   ]
  },
  {
   "cell_type": "markdown",
   "metadata": {
    "id": "cnLlmk_FZ7_r"
   },
   "source": [
    "# **Medical Imaging Toolbox**\n",
    "\n"
   ]
  },
  {
   "cell_type": "markdown",
   "metadata": {
    "id": "Cn5e6jEEsgqN"
   },
   "source": [
    "# 1. **DICOM**\n"
   ]
  },
  {
   "cell_type": "markdown",
   "metadata": {
    "id": "NHTdUjbys1C0"
   },
   "source": [
    "## 1.1. **Introduction to DICOM**"
   ]
  },
  {
   "cell_type": "markdown",
   "metadata": {
    "id": "e0-PeUKPZa-y"
   },
   "source": [
    "DICOM (Digital Imaging and Communications in Medicine) is an international standard for management and communication with medical images and data and is used in many healthcare facilities. Medical imaging devices, such as magnetic resonance imaging (MRI), computed tomography (CT), X-ray, and ultrasound (US), are used in radiology, cardiology, obstetrics, and dentistry, among others. [DICOM](https://en.wikipedia.org/w/index.php?title=DICOM&oldid=1044860775) evolved from the American College of Radiology and National Electrical Manufacturers Association versions 1 and 2. DICOM is robust and is used worldwide to store, exchange, retrieve, display, and transmit images between devices from multiple manufacturers.  \n",
    "Two-, three-, or four-dimensional imaging data can be encapsulated in DICOM format. Additionally, the DICOM format can also store many attributes in ‘tags’ which include patient name, medical record number, date, imaging data resolution and dimensions, scanner information, imaging parameters, etc in the DICOM object. The standard list attributes in DICOM tags are listed on the National Electrical Manufacturers Association (NEMA) [website](https://www.dicomstandard.org). Apart from DICOM format, the images can also be compressed with standards including JPEG2000, lossless JPEG, LZW, or run-length encoding. However, machine learning in medical imaging often needs metadata to correctly utilize the data and hence DICOM is a preferred format to save medical imaging data."
   ]
  },
  {
   "cell_type": "markdown",
   "metadata": {
    "id": "rnPvyJQytpe1"
   },
   "source": [
    "## 1.2. **Tools to visualize DICOM**"
   ]
  },
  {
   "cell_type": "markdown",
   "metadata": {
    "id": "hAvC1leOetLa"
   },
   "source": [
    "DICOM images need to be viewed through specific software, and there is no dearth of them. There are several DICOM data visualization, editing, and analysis tools available in the research community. Some of the free and popular DICOM editing tools are [Horos](https://horosproject.org), [Mango](https://ric.uthscsa.edu/mango/mango.html), [3DSlicer](https://www.slicer.org/), [ITKSNAP](https://www.itksnap.org/pmwiki/pmwiki.php), [IrfanView](www.irfanview.com/), [ImageJ](https://imagej.nih.gov/ij/), and [LabelMe](https://labelme2.csail.mit.edu/Release3.0/browserTools/php/publications.php). Figure 5.1 is a screenshot from ITKSNAP.\n",
    "\n",
    "<br><img src=\"https://i.ibb.co/16BqY9f/Figure5-1.png\" alt=\"Figure 1\" style='margin:auto' border=\"0\"><u>\n",
    "\n",
    "<b>Figure 5.1.</b> Visualizing MRI DICOM data with ITK-SNAP</u><br><br>\n",
    "\n",
    "\n"
   ]
  },
  {
   "cell_type": "markdown",
   "metadata": {
    "id": "IJ53km_ZtsKV"
   },
   "source": [
    "## 1.3. **DICOM Tags**"
   ]
  },
  {
   "cell_type": "markdown",
   "metadata": {
    "id": "cad4MiqOkh3j"
   },
   "source": [
    "DICOM uses a tag-based format, where each element of metadata is given a unique ID, identifying its purpose and size. A tag begins with a 2 component Group and Element. As its name implies, a Group represents classes of metadata. For instance, group 0x0010 (DICOM tags are always 4-digit hexadecimal values by convention) has information about the patient. The element is the more granular information within the group. For instance, Group 0x0010 and Element 0x0020 is the patient’s medical record number. The group and element together are typically shown as (0x0010, 0x0020). A very nice site to look up tag names is dicomlookup.com. There is much more to DICOM than just this image object, including transfer methods, image transformation objects (e.g. to map one set onto another), radiation treatment planning objects, and even textual reporting objects. We also note here that sometimes ‘tag’ refers to just the Group:Element and sometimes to the Group:Element and all the metadata that goes with it--context generally makes this clear.\n",
    "\n",
    "As we've already mentioned, the DICOM standard has been an enormous success, as it's provided an integrated framework for the transfer, storage, and printing of medical images. There are some DICOM metadata that are critical to understand. The first is that DICOM has a hierarchy of patient / Study (e.g. an MRI exam) / Series (the T1 pre-contrast axial images / and Instance (a single image). Each of these has a globally unique identifier (UID). Because of this,  Series Instance UID is the most reliable method of sorting series. Note that the filename does not necessarily reflect any particular patient, exam, series or image. And so a common task is to sort all the images within a series by slice location so that a sensible 3D image can be obtained. The following objects may also be required to reliably sort specific types of files: Acquisition Number, Echo Number, Image Position Patient, Image Type, and others. It is then possible to stack up to seven images from the series to create one with up to seven dimensions. Figure 5.2 demonstrates the encapsulated Tag in DICOM files.\n",
    "\n",
    "<br><img src=\"https://i.ibb.co/59J0DLd/Figure5-2.png\" alt=\"Figure 2\" style='margin:auto' border=\"0\"><u>\n",
    "\n",
    "<b>Figure 5.2.</b> Typical DICOM objects are used in interpreting image data and information required while converting into NIfTI.</u><br><br>\n",
    "\n",
    "\n",
    "Now that you know the general concept of DICOM tags, there are some important nuances to understand. As we noted above, a Tag starts by describing what the information is and uses a two-number code that relies on the DICOM dictionary. Public tags always have even-numbered Group values. Manufacturers can also define their private code and those must always have an odd-numbered group value. The second number in a tag after the (group,element) is the Value Representation (VR) ([source](https://dicom.nema.org/dicom/2013/output/chtml/part05/sect_6.2.html)) which defines the data type in the object. The terms used in VR are: US = unsigned short integers, DS = decimal string, CS = code string, IS = integer string, DT = date-time, OW = other word string, etc. Length defines the number of bytes for stored value and the last column component is its own value. The second column describes the meaning of Tag. Usually, DICOM stores each slice separately, but there are other DICOM objects where multiple images can be stored in a single object/file (e.g. movie files which DICOM usually refers to as ‘multi-frame’). "
   ]
  },
  {
   "cell_type": "markdown",
   "metadata": {
    "id": "YRjHxaFWmNAW"
   },
   "source": [
    "## 1.4. **DICOM: Working with Python**"
   ]
  },
  {
   "cell_type": "markdown",
   "metadata": {
    "id": "-SqEZUlPuVdV"
   },
   "source": [
    "In python, DICOM files may be opened, read, or written with [Pydicom](https://github.com/pydicom/pydicom) or the [SimpleITK](https://github.com/SimpleITK/SimpleITK) library. Python code to load and visualize a DICOM file and look at the Tag information can be found here."
   ]
  },
  {
   "cell_type": "code",
   "execution_count": null,
   "metadata": {
    "colab": {
     "base_uri": "https://localhost:8080/"
    },
    "id": "OtsWqFoxmtPW",
    "outputId": "7676caa5-64b6-44c6-8c3b-1008ef995295"
   },
   "outputs": [
    {
     "name": "stdout",
     "output_type": "stream",
     "text": [
      "Requirement already satisfied: pydicom in /usr/local/lib/python3.7/dist-packages (2.3.0)\n",
      "Requirement already satisfied: matplotlib in /usr/local/lib/python3.7/dist-packages (3.2.2)\n",
      "Requirement already satisfied: kiwisolver>=1.0.1 in /usr/local/lib/python3.7/dist-packages (from matplotlib) (1.4.2)\n",
      "Requirement already satisfied: pyparsing!=2.0.4,!=2.1.2,!=2.1.6,>=2.0.1 in /usr/local/lib/python3.7/dist-packages (from matplotlib) (3.0.8)\n",
      "Requirement already satisfied: cycler>=0.10 in /usr/local/lib/python3.7/dist-packages (from matplotlib) (0.11.0)\n",
      "Requirement already satisfied: numpy>=1.11 in /usr/local/lib/python3.7/dist-packages (from matplotlib) (1.21.6)\n",
      "Requirement already satisfied: python-dateutil>=2.1 in /usr/local/lib/python3.7/dist-packages (from matplotlib) (2.8.2)\n",
      "Requirement already satisfied: typing-extensions in /usr/local/lib/python3.7/dist-packages (from kiwisolver>=1.0.1->matplotlib) (4.2.0)\n",
      "Requirement already satisfied: six>=1.5 in /usr/local/lib/python3.7/dist-packages (from python-dateutil>=2.1->matplotlib) (1.15.0)\n"
     ]
    }
   ],
   "source": [
    "## DICOM: load data and visualize\n",
    "!pip install pydicom\n",
    "!pip install matplotlib\n",
    "\n",
    "# Import pydicom library\n",
    "import pydicom as dicom\n",
    "import matplotlib.pyplot as plt\n",
    "import gdown\n",
    "import os"
   ]
  },
  {
   "cell_type": "code",
   "execution_count": null,
   "metadata": {
    "id": "NcFpAIWG9LhQ"
   },
   "outputs": [],
   "source": [
    "# Downloading the zip archive containing sample images\n",
    "if not os.path.isdir(\"Sampledata_5A\"):\n",
    "    gdown.download(\n",
    "        \"https://drive.google.com/uc?export=download&confirm=pbef&id=1Mafu1sTobziya-n-MFCJeR8QftigKhDG\",\n",
    "        \"Sampledata_5A.zip\",\n",
    "        quiet=True,\n",
    "    )\n",
    "    !unzip -q Sampledata_5A.zip\n",
    "    os.remove(\"Sampledata_5A.zip\")"
   ]
  },
  {
   "cell_type": "code",
   "execution_count": null,
   "metadata": {
    "colab": {
     "base_uri": "https://localhost:8080/",
     "height": 287
    },
    "id": "ESipJxBR14Vs",
    "outputId": "73331f26-c6b2-4d38-aebe-66aefa974d37"
   },
   "outputs": [
    {
     "data": {
      "text/plain": [
       "<matplotlib.image.AxesImage at 0x7f64d3d01510>"
      ]
     },
     "execution_count": 92,
     "metadata": {},
     "output_type": "execute_result"
    },
    {
     "data": {
      "image/png": "[encoded data removed]",
      "text/plain": [
       "<Figure size 432x288 with 1 Axes>"
      ]
     },
     "metadata": {
      "needs_background": "light"
     },
     "output_type": "display_data"
    }
   ],
   "source": [
    "# specify your image path\n",
    "image_path = \"/content/Sampledata_5A/Sample5_1.dcm\"\n",
    "\n",
    "ds = dicom.dcmread(image_path)\n",
    "plt.imshow(ds.pixel_array)"
   ]
  },
  {
   "cell_type": "code",
   "execution_count": null,
   "metadata": {
    "colab": {
     "base_uri": "https://localhost:8080/"
    },
    "id": "o0tl3BLFHoeb",
    "outputId": "9c581387-ee89-4827-ec17-29bedab43701"
   },
   "outputs": [
    {
     "name": "stdout",
     "output_type": "stream",
     "text": [
      "Dataset.file_meta -------------------------------\n",
      "(0002, 0000) File Meta Information Group Length  UL: 208\n",
      "(0002, 0001) File Meta Information Version       OB: b'\\x00\\x01'\n",
      "(0002, 0002) Media Storage SOP Class UID         UI: Digital X-Ray Image Storage - For Presentation\n",
      "(0002, 0003) Media Storage SOP Instance UID      UI: 1.3.6.1.4.1.14519.5.2.1.6279.6001.307896144859643716158189196068\n",
      "(0002, 0010) Transfer Syntax UID                 UI: Explicit VR Little Endian\n",
      "(0002, 0012) Implementation Class UID            UI: 1.3.6.1.4.1.22213.1.143\n",
      "(0002, 0013) Implementation Version Name         SH: '0.5'\n",
      "(0002, 0016) Source Application Entity Title     AE: 'POSDA'\n",
      "-------------------------------------------------\n",
      "(0008, 0005) Specific Character Set              CS: 'ISO_IR 100'\n",
      "(0008, 0008) Image Type                          CS: ['ORIGINAL', 'PRIMARY', '']\n",
      "(0008, 0016) SOP Class UID                       UI: Digital X-Ray Image Storage - For Presentation\n",
      "(0008, 0018) SOP Instance UID                    UI: 1.3.6.1.4.1.14519.5.2.1.6279.6001.307896144859643716158189196068\n",
      "(0008, 0020) Study Date                          DA: '20000101'\n",
      "(0008, 0021) Series Date                         DA: '20000101'\n",
      "(0008, 0022) Acquisition Date                    DA: '20000101'\n",
      "(0008, 0023) Content Date                        DA: '20000101'\n",
      "(0008, 0024) Overlay Date                        DA: '20000101'\n",
      "(0008, 0025) Curve Date                          DA: '20000101'\n",
      "(0008, 002a) Acquisition DateTime                DT: '20000101'\n",
      "(0008, 0030) Study Time                          TM: ''\n",
      "(0008, 0032) Acquisition Time                    TM: ''\n",
      "(0008, 0033) Content Time                        TM: ''\n",
      "(0008, 0050) Accession Number                    SH: ''\n",
      "(0008, 0060) Modality                            CS: 'DX'\n",
      "(0008, 0070) Manufacturer                        LO: 'GE MEDICAL SYSTEMS'\n",
      "(0008, 0090) Referring Physician's Name          PN: ''\n",
      "(0008, 1090) Manufacturer's Model Name           LO: 'Revolution XQi ADS_28.2'\n",
      "(0008, 1155) Referenced SOP Instance UID         UI: 1.3.6.1.4.1.14519.5.2.1.6279.6001.715812073192851683888390563022\n",
      "(0010, 0010) Patient's Name                      PN: ''\n",
      "(0010, 0020) Patient ID                          LO: 'LIDC-IDRI-0001'\n",
      "(0010, 0030) Patient's Birth Date                DA: ''\n",
      "(0010, 0040) Patient's Sex                       CS: ''\n",
      "(0010, 1010) Patient's Age                       AS: ''\n",
      "(0010, 21d0) Last Menstrual Date                 DA: '20000101'\n",
      "(0012, 0062) Patient Identity Removed            CS: 'YES'\n",
      "(0012, 0063) De-identification Method            LO: 'DCM:113100/113105/113107/113108/113109/113111'\n",
      "(0013, 0010) Private Creator                     LO: 'CTP'\n",
      "(0013, 1010) Private tag data                    LO: 'LIDC-IDRI'\n",
      "(0013, 1013) Private tag data                    LO: '62796001'\n",
      "(0018, 0015) Body Part Examined                  CS: 'CHEST'\n",
      "(0018, 0060) KVP                                 DS: '125.0'\n",
      "(0018, 1020) Software Versions                   LO: 'Ads Application Package VERSION ADS_28.2'\n",
      "(0018, 1110) Distance Source to Detector         DS: '1800.0'\n",
      "(0018, 1111) Distance Source to Patient          DS: '1750.0'\n",
      "(0018, 1150) Exposure Time                       IS: '7'\n",
      "(0018, 1151) X-Ray Tube Current                  IS: '320'\n",
      "(0018, 1152) Exposure                            IS: '2'\n",
      "(0018, 1160) Filter Type                         SH: 'NONE'\n",
      "(0018, 1190) Focal Spot(s)                       DS: '1.25'\n",
      "(0020, 000d) Study Instance UID                  UI: 1.3.6.1.4.1.14519.5.2.1.6279.6001.175012972118199124641098335511\n",
      "(0020, 000e) Series Instance UID                 UI: 1.3.6.1.4.1.14519.5.2.1.6279.6001.141365756818074696859567662357\n",
      "(0020, 0010) Study ID                            SH: ''\n",
      "(0020, 0011) Series Number                       IS: '3000923'\n",
      "(0020, 0013) Instance Number                     IS: '1'\n",
      "(0020, 0020) Patient Orientation                 CS: ['L', 'F']\n",
      "(0020, 0052) Frame of Reference UID              UI: 1.3.6.1.4.1.14519.5.2.1.6279.6001.313477544115338489981733920769\n",
      "(0028, 0002) Samples per Pixel                   US: 1\n",
      "(0028, 0004) Photometric Interpretation          CS: 'MONOCHROME2'\n",
      "(0028, 0010) Rows                                US: 2022\n",
      "(0028, 0011) Columns                             US: 2022\n",
      "(0028, 0100) Bits Allocated                      US: 16\n",
      "(0028, 0101) Bits Stored                         US: 14\n",
      "(0028, 0102) High Bit                            US: 13\n",
      "(0028, 0103) Pixel Representation                US: 0\n",
      "(0028, 0303) Longitudinal Temporal Information M CS: 'MODIFIED'\n",
      "(0028, 1050) Window Center                       DS: '-600.0'\n",
      "(0028, 1051) Window Width                        DS: '1600.0'\n",
      "(0028, 1052) Rescale Intercept                   DS: '0.0'\n",
      "(0028, 1053) Rescale Slope                       DS: '1.0'\n",
      "(0028, 2110) Lossy Image Compression             CS: '00'\n",
      "(0038, 0020) Admitting Date                      DA: '20000101'\n",
      "(0040, 0002) Scheduled Procedure Step Start Date DA: '20000101'\n",
      "(0040, 0004) Scheduled Procedure Step End Date   DA: '20000101'\n",
      "(0040, 0244) Performed Procedure Step Start Date DA: '20000101'\n",
      "(0040, 2016) Placer Order Number / Imaging Servi LO: ''\n",
      "(0040, 2017) Filler Order Number / Imaging Servi LO: ''\n",
      "(0040, a075) Verifying Observer Name             PN: 'Removed by CTP'\n",
      "(0040, a123) Person Name                         PN: 'Removed by CTP'\n",
      "(0040, a124) UID                                 UI: 1.3.6.1.4.1.14519.5.2.1.6279.6001.297040423659775296818715026012\n",
      "(0070, 0084) Content Creator's Name              PN: ''\n",
      "(0088, 0140) Storage Media File-set UID          UI: 1.3.6.1.4.1.14519.5.2.1.6279.6001.184019247969808410716143213081\n",
      "(7fe0, 0010) Pixel Data                          OW: Array of 8176968 elements\n"
     ]
    }
   ],
   "source": [
    "## DICOM: metadata info\n",
    "print(ds)"
   ]
  },
  {
   "cell_type": "code",
   "execution_count": null,
   "metadata": {
    "colab": {
     "base_uri": "https://localhost:8080/"
    },
    "id": "fJaBy01pM148",
    "outputId": "43fe5354-608f-4b8d-ae1c-2b5feb24668d"
   },
   "outputs": [
    {
     "name": "stdout",
     "output_type": "stream",
     "text": [
      "Revolution XQi ADS_28.2\n",
      "(0010, 0010) Patient's Name                      PN: ''\n"
     ]
    }
   ],
   "source": [
    "# Viewing Field field tag name or tag number\n",
    "print(ds.ManufacturerModelName)  # to print manufacturer model name\n",
    "print(ds[0x10, 0x10])  # for patient name use  'print(ds.PatientName)' or tag number"
   ]
  },
  {
   "cell_type": "code",
   "execution_count": null,
   "metadata": {
    "colab": {
     "base_uri": "https://localhost:8080/"
    },
    "id": "xEAOxpNrNOCF",
    "outputId": "71983bb4-1fa3-4195-ac2d-166ea4cd0c25"
   },
   "outputs": [
    {
     "data": {
      "text/plain": [
       "['DistanceSourceToPatient',\n",
       " 'PatientAge',\n",
       " 'PatientBirthDate',\n",
       " 'PatientID',\n",
       " 'PatientIdentityRemoved',\n",
       " 'PatientName',\n",
       " 'PatientOrientation',\n",
       " 'PatientSex']"
      ]
     },
     "execution_count": 95,
     "metadata": {},
     "output_type": "execute_result"
    }
   ],
   "source": [
    "# The field can be printed with part of file name\n",
    "# for example, find tag name with ‘pat’ as part of name.\n",
    "ds.dir(\"pat\")"
   ]
  },
  {
   "cell_type": "markdown",
   "metadata": {
    "id": "tgpahSUkmql_"
   },
   "source": [
    "\n",
    "**De-identification:**\n",
    "According to the U.S. Health Insurance Portability and Accountability Act (HIPAA), and the European General Data Protection Regulations (GDPR), protected health information (e.g. patient identity) should not be released publicly. However, DICOM metadata (header)typically does contain some identifiable information about the patient. Hence, proper de-identification is necessary, which can be achieved by converting DICOM into other formats and removing the protected information from the saved file. "
   ]
  },
  {
   "cell_type": "markdown",
   "metadata": {
    "id": "AGHDAoz-Z69C"
   },
   "source": [
    "# 2. **NIfTI**"
   ]
  },
  {
   "cell_type": "markdown",
   "metadata": {
    "id": "BDusbELfaHjn"
   },
   "source": [
    "## 2.1. **Introduction to NIfTI**"
   ]
  },
  {
   "cell_type": "markdown",
   "metadata": {
    "id": "nE-dTq1naEog"
   },
   "source": [
    "Even though DICOM is a very flexible and comprehensive system, this is a common problem in research environments, compounded by analysis methods and data constantly growing. The Neuroimaging Informatics Technology Initiative (NIfTI) format differs from DICOM because it is a very minimalistic format. The DICOM metadata is often removed or converted to NIfTI, which keeps the information about Voxel size and patient position. Completely removing DICOM metadata for open-source research could avoid privacy issues, but it would also eliminate some of the important information necessary for AI algorithms. Scientists in the neuroimaging community have primarily adopted the NIfTI format for storing and transferring clinical imaging data. They can mix and match image processing and analysis tools developed by different teams using the NIfTI format, widely adopted in neuroimaging research.\n",
    "\n"
   ]
  },
  {
   "cell_type": "markdown",
   "metadata": {
    "id": "GKaEa8AhbKCP"
   },
   "source": [
    "## 2.2. **DICOM to NIfTI Conversion**"
   ]
  },
  {
   "cell_type": "markdown",
   "metadata": {
    "id": "3lsnC7M7bNK4"
   },
   "source": [
    "DICOM is comprehensive and clinically oriented, whereas NIfTI is simple and easy for research. DICOM has a complicated format in order to support all the clinical scenarios and imaging devices that might be encountered in medicine. There have been different versions over time, and for novel and innovative methods, important information about the images may not yet have DICOM standards approved. This requires information to be stored in private tags, which makes it difficult for one tool to convert them into NIfTI. Nevertheless, converting images from the complex and image-per-file DICOM format to NIfTI format is crucial for efficient processing of the data. Several factors can disrupt this process ([source](https://doi.org/10.1016/j.jneumeth.2016.03.001)). \n",
    "\n",
    "According to its creators, the NIfTI format was initially intended to be a backward-compatible extension of the proprietary ANALYZE-7.5 file format. A DICOM file must first be sorted into different series before being converted. \"DICOM series\" refers to the collection of DICOM images (Instances) produced with the same image properties (there are some exceptions where related sets of images for each location are acquired together) covering a region of the body during an examination ([source](https://doi.org/10.1007/s10278-013-9657-9)). Most images are acquired as 2D (again, with a few exceptions), but when they are converted to NIfTI, usually all images are stacked together to make 3D volumetric data. The most reliable way to sort the series of DICOM images is to find the Series UID, as that should be globally unique--no other image should have that Series UID. Some of the popular DICOM to NIfTI conversion tools are [MRIConverter](https://lcni.uoregon.edu/downloads/mriconvert), and [MRIcron](https://www.nitrc.org/projects/mricron), whereas [dcm2nii](https://people.cas.sc.edu/rorden/mricron/dcm2nii.html), Pydicom and SimpleITK are python libraries (example shown here) which directly convert and save DICOM into NIfTI format along with the important metadata about pixel size and geometry. [MRIcro](https://people.cas.sc.edu/rorden/mricro/mricro.html) software is not only used to convert DICOM to NIfTI, but it also converts ITK MetaImage, AFNI, Freesurfer, and bitmap images (PNG, JPEG, etc) into NIfTI. SimpleITK preserves the pixel resolution by default. However, pydicom and dcm2niix need pixel information when writing the data in NIfTI format. The spacing in pixels is enclosed in the affine matrix, 4x4 matrix, which is also saved in NIfTI format along with imaging data. NIfTI data cannot be saved as integers and even binary mask files need to be converted to ‘float32’ or ‘float64’ before saving them in NIfTI. In the next section, we will see more information on affine matrix.\n",
    "\n",
    "An important task that these converters do is to identify the ‘Slice location’ tag in DICOM to determine where that slice is located. After getting all slice locations, the slices are then sorted by location in order to provide a correct 3D representation. **We note here that the file names for DICOM are completely arbitrary and cannot be relied upon to indicate patient, study, series, or location. You must look at the DICOM tags to get reliable information.**"
   ]
  },
  {
   "cell_type": "code",
   "execution_count": null,
   "metadata": {
    "colab": {
     "base_uri": "https://localhost:8080/"
    },
    "id": "XDV12d7B0s6Y",
    "outputId": "dac3ad28-6d94-4605-90ea-5fda5534246f"
   },
   "outputs": [
    {
     "name": "stdout",
     "output_type": "stream",
     "text": [
      "Requirement already satisfied: SimpleITK in /usr/local/lib/python3.7/dist-packages (2.1.1.2)\n",
      "Requirement already satisfied: nibabel in /usr/local/lib/python3.7/dist-packages (3.0.2)\n",
      "Requirement already satisfied: numpy>=1.12 in /usr/local/lib/python3.7/dist-packages (from nibabel) (1.21.6)\n",
      "Requirement already satisfied: numpy in /usr/local/lib/python3.7/dist-packages (1.21.6)\n"
     ]
    }
   ],
   "source": [
    "# Use SimpleITK or pydicom to convert DICOM into NIfTI. And nibabel can be used to work with NIfTI format\n",
    "!pip install SimpleITK\n",
    "!pip install nibabel\n",
    "!pip install numpy"
   ]
  },
  {
   "cell_type": "code",
   "execution_count": null,
   "metadata": {
    "id": "2UOANrOzOMIA"
   },
   "outputs": [],
   "source": [
    "## DICOM to NIfTI with SimpleITK/pydicom\n",
    "import SimpleITK as sitk\n",
    "import pydicom\n",
    "import nibabel as nib\n",
    "import numpy as np\n",
    "import os"
   ]
  },
  {
   "cell_type": "code",
   "execution_count": null,
   "metadata": {
    "colab": {
     "base_uri": "https://localhost:8080/"
    },
    "id": "oc_7djcLOL_H",
    "outputId": "356f54cd-2460-4ed7-e022-a50aae2d60b8"
   },
   "outputs": [
    {
     "name": "stdout",
     "output_type": "stream",
     "text": [
      "Sample5_1.dcm\n",
      "['Sample5_1.dcm', 'done']\n"
     ]
    }
   ],
   "source": [
    "dicom_path = \"/content/Sampledata_5A/\"\n",
    "\n",
    "for each in os.listdir(dicom_path):\n",
    "    if \".nii\" not in each:\n",
    "        print(each)\n",
    "        imgObj = sitk.ReadImage(os.path.join(dicom_path, each))\n",
    "        ndarray = sitk.GetArrayFromImage(imgObj)\n",
    "        writeObj = sitk.GetImageFromArray(ndarray)\n",
    "        writeObj.CopyInformation(imgObj)\n",
    "        writer = sitk.ImageFileWriter()\n",
    "        writer.SetFileName(dicom_path + each + \".nii.gz\")\n",
    "        writer.Execute(writeObj)\n",
    "        print([each, \"done\"])\n",
    "\n",
    "        # OR pydicom for reading dicom files\n",
    "        # imgObj=pydicom.dcmread(filepath)\n",
    "        # ndarray=imgObj.pixel_array\n",
    "        # newImgObj=nib.Nifti1Image(ndarray,affine)\n",
    "        # nib.save(newImgObj,dicom_path+each+'.nii.gz')"
   ]
  },
  {
   "cell_type": "markdown",
   "metadata": {
    "id": "Obu5L54mbVYd"
   },
   "source": [
    "## 2.3. **Working with NIfTI**"
   ]
  },
  {
   "cell_type": "markdown",
   "metadata": {
    "id": "lFd-eSombbRN"
   },
   "source": [
    "The NIfTI format can save header and image data separately, though typically they are together in 1 file. NiBabel is commonly used to read NIfTI images and also to write images in NIfTI format using Python (‘import nibabel’). NIfTI files typically end with the extension ‘.nii’ and they can be compressed with gzip (that extension is ‘.nii.gz’). There are ‘NIfTI-1’ and ‘NIfTI-2’ formats and the latter allows storage of more data. A Python script on how to load and write NIfTI files, extract header information, and extract affines can be found on the [NiBabel website](https://nipy.org/nibabel/nifti_images.html) and some of them are also listed here."
   ]
  },
  {
   "cell_type": "code",
   "execution_count": null,
   "metadata": {
    "colab": {
     "base_uri": "https://localhost:8080/"
    },
    "id": "zwEIPFuT0UXn",
    "outputId": "6e2c74e5-60c4-48d6-810a-db7018b1c746"
   },
   "outputs": [
    {
     "name": "stdout",
     "output_type": "stream",
     "text": [
      "<class 'nibabel.nifti1.Nifti1Header'> object, endian='<'\n",
      "sizeof_hdr      : 348\n",
      "data_type       : b''\n",
      "db_name         : b''\n",
      "extents         : 0\n",
      "session_error   : 0\n",
      "regular         : b'r'\n",
      "dim_info        : 0\n",
      "dim             : [   3 2022 2022    1    1    1    1    1]\n",
      "intent_p1       : 0.0\n",
      "intent_p2       : 0.0\n",
      "intent_p3       : 0.0\n",
      "intent_code     : none\n",
      "datatype        : uint16\n",
      "bitpix          : 16\n",
      "slice_start     : 0\n",
      "pixdim          : [1. 1. 1. 1. 0. 0. 0. 0.]\n",
      "vox_offset      : 0.0\n",
      "scl_slope       : nan\n",
      "scl_inter       : nan\n",
      "slice_end       : 0\n",
      "slice_code      : unknown\n",
      "xyzt_units      : 2\n",
      "cal_max         : 0.0\n",
      "cal_min         : 0.0\n",
      "slice_duration  : 0.0\n",
      "toffset         : 0.0\n",
      "glmax           : 0\n",
      "glmin           : 0\n",
      "descrip         : b''\n",
      "aux_file        : b''\n",
      "qform_code      : scanner\n",
      "sform_code      : scanner\n",
      "quatern_b       : 0.0\n",
      "quatern_c       : 0.0\n",
      "quatern_d       : 1.0\n",
      "qoffset_x       : -0.0\n",
      "qoffset_y       : -0.0\n",
      "qoffset_z       : 0.0\n",
      "srow_x          : [-1.  0.  0. -0.]\n",
      "srow_y          : [ 0. -1.  0. -0.]\n",
      "srow_z          : [0. 0. 1. 0.]\n",
      "intent_name     : b''\n",
      "magic           : b'n+1'\n"
     ]
    }
   ],
   "source": [
    "## Working with NIfTI\n",
    "# Import nibabel, load NIfTI and extract header information\n",
    "\n",
    "Nifti_path = \"/content/Sampledata_5A/\"\n",
    "example_ni1 = os.path.join(Nifti_path, \"Sample5_1.dcm.nii.gz\")\n",
    "n1_img = nib.load(example_ni1)\n",
    "\n",
    "# NIfTI header\n",
    "n1_header = n1_img.header\n",
    "print(n1_header)"
   ]
  },
  {
   "cell_type": "code",
   "execution_count": null,
   "metadata": {
    "id": "z3QKIQ0iX7GS"
   },
   "outputs": [],
   "source": [
    "# To save array in NIfTI format, it also need affine property to hold it's spatial resolution\n",
    "# If data stored is in bitmap format, it may not have affine but to save them in NIfTI format, one may create an identity affine matrix.\n",
    "# 'affine1 = np.eye(4)'\n",
    "\n",
    "# Save NIfTI after data processing.\n",
    "affine1 = n1_img.affine\n",
    "data = n1_img.get_fdata()\n",
    "# Do normalization or some data processing and save output data.\n",
    "data2 = nib.Nifti1Image(data, affine1)\n",
    "nib.save(data2, Nifti_path + \"NIfTI_processed.nii.gz\")"
   ]
  },
  {
   "cell_type": "markdown",
   "metadata": {
    "id": "vESrK4S1cjkC"
   },
   "source": [
    "# 3. **DICOM/NIfTI Conversion to 2D images**"
   ]
  },
  {
   "cell_type": "markdown",
   "metadata": {
    "id": "0pYVKFN_cmg1"
   },
   "source": [
    "DICOM or NIfTI images often get converted to 2D image format when used by machine learning models. The 2D machine learning models can be fed with 2D images with a single channel of grayscale intensity or 3 channel RGB image. It’s easy to feed data into PyTorch-based machine learning models if the data format is a series of 2D bitmap images (i.e. jpeg, png, tiff, etc.) Photographic images are also present in a 2D image format and are used in machine learning for transfer learning algorithms. These data need to be fed into the models in the same way. Bitmap images can be easily visualized across different platforms with the native image viewer software of the system. A Python script to convert DICOM and NIfTI to bitmap images can be found here."
   ]
  },
  {
   "cell_type": "code",
   "execution_count": null,
   "metadata": {
    "colab": {
     "base_uri": "https://localhost:8080/"
    },
    "id": "zTz_2jG9z04v",
    "outputId": "6323119b-315f-4513-bfb4-63c95d011136"
   },
   "outputs": [
    {
     "name": "stdout",
     "output_type": "stream",
     "text": [
      "(2022, 2022)\n",
      "max= 15563.0\n",
      "min= 171.0\n"
     ]
    }
   ],
   "source": [
    "## Convert the DICOM into png/jpg images\n",
    "import pydicom as dicom\n",
    "from PIL import Image\n",
    "\n",
    "# specify your image path\n",
    "dicom_image = \"/content/Sampledata_5A/Sample5_1.dcm\"\n",
    "ds = dicom.dcmread(dicom_image)\n",
    "\n",
    "imdata = ds.pixel_array.astype(\"float32\")\n",
    "print(imdata.shape)\n",
    "print(\"max=\", np.max(imdata))\n",
    "print(\"min=\", np.min(imdata))"
   ]
  },
  {
   "cell_type": "code",
   "execution_count": null,
   "metadata": {
    "colab": {
     "base_uri": "https://localhost:8080/"
    },
    "id": "ZQlljnHzDtep",
    "outputId": "59f29bae-44f8-4901-bde0-3de8d17b883e"
   },
   "outputs": [
    {
     "name": "stdout",
     "output_type": "stream",
     "text": [
      "Normalized Intensity= 2.8018377 255.0\n"
     ]
    }
   ],
   "source": [
    "# Normalize data if neccessary\n",
    "data = (imdata / np.max(imdata)) * 255\n",
    "\n",
    "print(\"Normalized Intensity=\", np.min(data), np.max(data))\n",
    "darray = data.astype(\"uint8\")\n",
    "im = Image.fromarray(darray)\n",
    "im.convert(\"RGB\")\n",
    "im.save(os.path.join(dicom_image[: -len(\".dcm\")] + \".png\"))"
   ]
  },
  {
   "cell_type": "code",
   "execution_count": null,
   "metadata": {
    "colab": {
     "base_uri": "https://localhost:8080/"
    },
    "id": "dd03bHdv9LOW",
    "outputId": "b35c7c0e-c16e-4007-d6f7-3f8ab78a42f1"
   },
   "outputs": [
    {
     "name": "stdout",
     "output_type": "stream",
     "text": [
      "(2022, 2022, 1)\n",
      "(2022, 2022)\n"
     ]
    }
   ],
   "source": [
    "## Convert the NIfTI into png/jpg images\n",
    "import nibabel as nib\n",
    "from PIL import Image\n",
    "\n",
    "# specify your image path\n",
    "Nifti_path = \"/content/Sampledata_5A/Sample5_1.dcm.nii.gz\"\n",
    "img = nib.load(Nifti_path)  # read nii\n",
    "img_fdata = img.get_fdata()\n",
    "\n",
    "print(img_fdata.shape)\n",
    "img_fdata2 = np.squeeze(img_fdata)\n",
    "print(img_fdata2.shape)"
   ]
  },
  {
   "cell_type": "code",
   "execution_count": null,
   "metadata": {
    "colab": {
     "base_uri": "https://localhost:8080/"
    },
    "id": "TIzQxbeIHOV3",
    "outputId": "c90a3dfb-8928-4257-d196-6c18ad6f9eab"
   },
   "outputs": [
    {
     "name": "stdout",
     "output_type": "stream",
     "text": [
      "Normalized Intensity= 2.801837691961704 255.0\n",
      "Nifti file saved in jpg format\n"
     ]
    }
   ],
   "source": [
    "# Normalize data if neccessary\n",
    "data2 = (img_fdata2 / np.max(img_fdata2)) * 255\n",
    "print(\"Normalized Intensity=\", np.min(data2), np.max(data2))\n",
    "\n",
    "# save in jpg format\n",
    "darray2 = data2.astype(\"uint8\")\n",
    "im2 = Image.fromarray(darray2)\n",
    "im2.convert(\"RGB\")\n",
    "im2.save(os.path.join(Nifti_path[: -len(\".dcm.nii.gz\")] + \".jpg\"))\n",
    "print(\"Nifti file saved in jpg format\")"
   ]
  },
  {
   "cell_type": "markdown",
   "metadata": {
    "id": "ZQ6pE39gzhIx"
   },
   "source": [
    "# 4. **Image formats Beyond DICOM and NIfTI**"
   ]
  },
  {
   "cell_type": "markdown",
   "metadata": {
    "id": "yPR_4c38zdz1"
   },
   "source": [
    "There are a few other imaging formats other than DICOM and NIfTI that are occasionally used. These formats are used for non-medical images like photographs and enjoy much greater compatibility with non-medical tools.\n",
    "\n",
    "[JPEG](https://doi.org/10.2345/0899-8205-43.2.131) (Joint Photographic Experts Group): JPEG is a file format developed by the Joint  Photographic Experts Group. The JPEG format supports both lossless (this is reversible--the image obtained after compression and decompression is mathematically identical to the original image) and lossy (irreversible) compression. Lossy compression is used in standard JPEG. The operator can control the ‘quality’ which in turn impacts the amount of storage used. The resulting image will not be mathematically identical to the original, but with an appropriate quality factor, the difference will not be visually significant. The appropriate quality factor depends on the image and use case, so experimentation is usually required, but values around 90 are usually acceptable. JPEG 2000 is another version that offers lossless compression and can achieve higher compression ratios for the same image quality but requires more computing power.\n",
    "\n",
    "[TIFF](https://doi.org/10.2345/0899-8205-43.2.131) (Tagged Image File Format): TIFF supports both lossy and lossless compression. It is popular for publication because it specifies the ‘Dots Per Inch’ which is important for print publication but is not relevant for online publication.\n",
    "\n",
    "[PNG](https://doi.org/10.2345/0899-8205-43.2.131) (Portable Network Graphics): This format allows for lossless compression. It was one of the first formats to support 16-bit grayscale images, and therefore is popular in medical imaging since many modalities are also 16-bit grayscale.\n",
    "\n",
    "[GIF](https://doi.org/10.2345/0899-8205-43.2.131) (Graphics Interchange Format): This was one of the first imaging formats. However, it is no longer widely used. It offers a restricted set of functionality and ineffective compression. It is widely used for websites and offers lossless compression and transparency."
   ]
  },
  {
   "cell_type": "markdown",
   "metadata": {
    "id": "4pjYnGBSJgLF"
   },
   "source": [
    "---\n",
    "\n",
    "##***Feedback***\n",
    "\n",
    "*Now that you have completed this chapter, we would be very grateful if you spend a few minutes of your time to answer a short survey about this chapter. We highly value your feedback and will do our best to leverage this to improve our educational content and/or strategies.*\n",
    "\n",
    "[Click here to begin the survey!](https://docs.google.com/forms/d/e/1FAIpQLSddhdaAmeHmrKKRNXCLIQH6_mnIC3KR7XlDIVWGt3FSQhPDhQ/viewform)"
   ]
  }
 ],
 "metadata": {
  "accelerator": "GPU",
  "colab": {
   "collapsed_sections": [],
   "name": "Section 5: Medical Imaging Toolbox.ipynb",
   "provenance": []
  },
  "kernelspec": {
   "display_name": "Python 3",
   "name": "python3"
  },
  "language_info": {
   "name": "python"
  }
 },
 "nbformat": 4,
 "nbformat_minor": 0
}
