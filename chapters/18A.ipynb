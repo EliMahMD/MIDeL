{
 "cells": [
  {
   "cell_type": "markdown",
   "metadata": {},
   "source": [
    "# Active Learning with GraNd (Gradient Normed) Sampling\n",
    "\n",
    "*Authors: Sahika Betul Yayli, MD*\n",
    "\n",
    "## Introduction to Active Learning\n",
    "\n",
    "Active Learning is a powerful technique in machine learning that helps improve model performance while reducing the need for excessive manual labeling. Instead of training a model on a fully labeled dataset, Active Learning allows the model to decide which data points should be labeled, focusing on the most informative samples.\n",
    "\n",
    "This approach makes the labeling process more efficient by reducing the number of labels needed while still maintaining (or even improving) performance. It’s particularly useful in cases where labeling data is expensive or time-consuming, such as medical imaging, speech recognition, and other domains requiring expert annotation.\n",
    "\n",
    "## The GraNd (Gradient Normed) Method\n",
    "\n",
    "GraNd is a sampling technique used in active learning. It assigns a relevance score to each sample based on the average gradient of the loss. The method typically uses the gradients of the parameters in the penultimate layer of the network (just before the linear layer that yields the class probabilities).\n",
    "\n",
    "The penultimate layer is chosen for several reasons:\n",
    "1. It represents high-level features learned by the model.\n",
    "2. Gradients at this layer are more informative about the model's learning process than the final layer.\n",
    "3. The final layer often includes a softmax activation, which can mask the true uncertainty of the model.\n",
    "4. Using the penultimate layer makes the method more generalizable across different model architectures.\n",
    "\n",
    "Let's implement the GraNd method using PyTorch:"
   ]
  },
  {
   "cell_type": "markdown",
   "metadata": {},
   "source": [
    "# Step-by-Step Application of GraNd Sampling on MNIST"
   ]
  },
  {
   "cell_type": "markdown",
   "metadata": {},
   "source": [
    "This initial step performs two essential tasks:\n",
    "\n",
    "1. **Imports necessary libraries** such as PyTorch, NumPy, and Matplotlib for deep learning, data handling, and visualization.\n",
    "2. **Ensures reproducibility** by setting fixed random seeds for PyTorch, NumPy, and Python’s `random` module.\n",
    "\n",
    "Reproducibility is critical in machine learning experiments to ensure consistent results across runs."
   ]
  },
  {
   "cell_type": "code",
   "execution_count": 1,
   "metadata": {},
   "outputs": [],
   "source": [
    "import torch\n",
    "import torch.nn as nn\n",
    "import torch.nn.functional as F\n",
    "import torch.optim as optim\n",
    "from torchvision import datasets, transforms\n",
    "from torch.utils.data import DataLoader, Subset\n",
    "import numpy as np\n",
    "import random\n",
    "from tqdm import tqdm\n",
    "import matplotlib.pyplot as plt\n",
    "\n",
    "# Reproducibility\n",
    "seed = 61\n",
    "torch.manual_seed(seed)\n",
    "np.random.seed(seed)\n",
    "random.seed(seed)"
   ]
  },
  {
   "cell_type": "markdown",
   "metadata": {},
   "source": [
    "In this step, we define a simple **Convolutional Neural Network (CNN)** called `SimpleCNN` to classify MNIST digits.\n",
    "\n",
    "The model consists of:\n",
    "- **Two convolutional layers** followed by ReLU activations and a max pooling operation\n",
    "- **One hidden fully connected (dense) layer** with 128 units\n",
    "- **An output layer** with 10 units (one for each digit class)\n",
    "\n",
    "This architecture is lightweight yet powerful enough to effectively learn from MNIST."
   ]
  },
  {
   "cell_type": "code",
   "execution_count": 2,
   "metadata": {},
   "outputs": [],
   "source": [
    "# Define a simple CNN model\n",
    "class SimpleCNN(nn.Module):\n",
    "    def __init__(self):\n",
    "        super(SimpleCNN, self).__init__()\n",
    "        self.conv1 = nn.Conv2d(1, 32, 3, 1)\n",
    "        self.conv2 = nn.Conv2d(32, 64, 3, 1)\n",
    "        self.fc1 = nn.Linear(9216, 128)\n",
    "        self.fc2 = nn.Linear(128, 10)\n",
    "\n",
    "    def forward(self, x):\n",
    "        x = F.relu(self.conv1(x))\n",
    "        x = F.relu(self.conv2(x))\n",
    "        x = F.max_pool2d(x, 2)\n",
    "        x = torch.flatten(x, 1)\n",
    "        x = F.relu(self.fc1(x))\n",
    "        x = self.fc2(x)\n",
    "        return x"
   ]
  },
  {
   "cell_type": "markdown",
   "metadata": {},
   "source": [
    "Here, we load the **MNIST dataset**, which consists of 60,000 training and 10,000 test grayscale images of handwritten digits (0–9).\n",
    "\n",
    "Key steps:\n",
    "- We use `torchvision.datasets.MNIST` to download and load the data.\n",
    "- Images are transformed into tensors using `transforms.ToTensor()`.\n",
    "- A `DataLoader` is created for the **test set** to enable efficient batch-wise evaluation later.\n",
    "\n",
    "Note: The training DataLoader will be created dynamically depending on which subset of data (e.g., 10%, GraNd, etc.) is used in each experiment."
   ]
  },
  {
   "cell_type": "code",
   "execution_count": 3,
   "metadata": {},
   "outputs": [],
   "source": [
    "transform = transforms.Compose([transforms.ToTensor()])\n",
    "train_dataset = datasets.MNIST(root='./data', train=True, download=True, transform=transform)\n",
    "test_dataset = datasets.MNIST(root='./data', train=False, download=True, transform=transform)\n",
    "test_loader = DataLoader(test_dataset, batch_size=256, shuffle=False)"
   ]
  },
  {
   "cell_type": "markdown",
   "metadata": {},
   "source": [
    "In this step, we define two key utility functions used throughout our experiments:\n",
    "\n",
    "- **`train_model()`**:  \n",
    "  Trains a given model for a specified number of epochs using the Adam optimizer and cross-entropy loss.  \n",
    "  The model is trained on a specified `DataLoader` (e.g., random 10%, GraNd samples, full data, etc.).\n",
    "\n",
    "- **`evaluate_model()`**:  \n",
    "  Evaluates a trained model’s classification accuracy on a given test set.\n",
    "\n",
    "These reusable functions enable consistent model training and performance comparison."
   ]
  },
  {
   "cell_type": "code",
   "execution_count": 4,
   "metadata": {},
   "outputs": [],
   "source": [
    "def train_model(model, train_loader, epochs=5, lr=0.001):\n",
    "    device = torch.device(\"cuda\" if torch.cuda.is_available() else \"cpu\")\n",
    "    model.to(device)\n",
    "    optimizer = optim.Adam(model.parameters(), lr=lr)\n",
    "    criterion = nn.CrossEntropyLoss()\n",
    "\n",
    "    model.train()\n",
    "    for _ in range(epochs):\n",
    "        for data, target in train_loader:\n",
    "            data, target = data.to(device), target.to(device)\n",
    "            optimizer.zero_grad()\n",
    "            output = model(data)\n",
    "            loss = criterion(output, target)\n",
    "            loss.backward()\n",
    "            optimizer.step()\n",
    "    return model\n",
    "\n",
    "def evaluate_model(model, data_loader):\n",
    "    device = torch.device(\"cuda\" if torch.cuda.is_available() else \"cpu\")\n",
    "    model.to(device)\n",
    "    model.eval()\n",
    "    correct = 0\n",
    "    total = 0\n",
    "    with torch.no_grad():\n",
    "        for data, target in data_loader:\n",
    "            data, target = data.to(device), target.to(device)\n",
    "            outputs = model(data)\n",
    "            _, predicted = torch.max(outputs.data, 1)\n",
    "            total += target.size(0)\n",
    "            correct += (predicted == target).sum().item()\n",
    "    return correct / total\n"
   ]
  },
  {
   "cell_type": "markdown",
   "metadata": {},
   "source": [
    "This function calculates GraNd (Gradient Norm) scores **without requiring ground truth labels**, making it suitable for **unlabeled data** in active learning pipelines.\n",
    "\n",
    "As stated in our objective, the goal is to **minimize manual labeling effort** while still training a model that performs well.  \n",
    "By estimating how informative each sample is without using labels, we can selectively annotate only the most impactful data points.\n",
    "\n",
    "How it works:\n",
    "- The model makes predictions for each input sample.\n",
    "- The entropy of the prediction is used as a proxy for loss, instead of using true labels.\n",
    "$$\\text{Entropy Loss} = -\\sum p(x) \\log p(x)$$\n",
    "- The gradient of the entropy-based loss is backpropagated.\n",
    "- The **L2 norm of the gradient** is computed and used as the GraNd score.\n",
    "\n",
    "Samples with higher gradient norms are assumed to be more informative and are prioritized for annotation in active learning settings.\n"
   ]
  },
  {
   "cell_type": "code",
   "execution_count": null,
   "metadata": {},
   "outputs": [],
   "source": [
    "def compute_grand_scores(model, data_loader):\n",
    "    model.eval()\n",
    "    device = torch.device(\"cuda\" if torch.cuda.is_available() else \"cpu\")\n",
    "    model.to(device)\n",
    "\n",
    "    scores = []\n",
    "\n",
    "    penultimate_params = list(model.fc1.parameters())\n",
    "\n",
    "    for data, _ in tqdm(data_loader):\n",
    "        data = data.to(device)\n",
    "\n",
    "        for i in range(data.size(0)):\n",
    "            model.zero_grad()\n",
    "            input_i = data[i].unsqueeze(0)\n",
    "            output_i = model(input_i)\n",
    "\n",
    "            prob = F.softmax(output_i, dim=1)\n",
    "            entropy_loss = -torch.sum(prob * torch.log(prob + 1e-8))\n",
    "\n",
    "            entropy_loss.backward()\n",
    "\n",
    "            grad_norm = sum(\n",
    "                (p.grad**2).sum().item()\n",
    "                for p in penultimate_params\n",
    "                if p.grad is not None\n",
    "            )\n",
    "            scores.append(grad_norm)\n",
    "\n",
    "    return np.array(scores)"
   ]
  },
  {
   "cell_type": "markdown",
   "metadata": {},
   "source": [
    "## Training `model_active_base10` — Random 10% Seed Set from Training Dataset\n",
    "\n",
    "This model is trained using a randomly selected **10% subset** of the MNIST training dataset.  \n",
    "It acts as the **initial baseline model** in our active learning pipeline, representing the starting point before applying any sampling strategy."
   ]
  },
  {
   "cell_type": "markdown",
   "metadata": {},
   "source": [
    "Here, we split the training dataset into two parts:\n",
    "\n",
    "- **Seed Set (10%)**: A randomly selected 10% of the full training dataset. This will be used to train the initial baseline model.\n",
    "- **Remaining Set (90%)**: The rest of the data, which will later be ranked using GraNd scores or sampled randomly.\n",
    "\n",
    "This split simulates a typical **active learning setting**, where we only start with a small amount of labeled data, and selectively acquire more samples over time.\n",
    "\n",
    "The seed set allows us to train an initial model, which is then used to compute GraNd scores on the remaining unlabeled data."
   ]
  },
  {
   "cell_type": "code",
   "execution_count": 6,
   "metadata": {},
   "outputs": [],
   "source": [
    "num_total = len(train_dataset)\n",
    "num_seed = num_total * 10 // 100  # 10%\n",
    "\n",
    "indices = np.arange(num_total)\n",
    "np.random.shuffle(indices)\n",
    "seed_indices = indices[:num_seed]\n",
    "remaining_indices = indices[num_seed:]\n",
    "\n",
    "seed_dataset = Subset(train_dataset, seed_indices)\n",
    "remaining_dataset = Subset(train_dataset, remaining_indices)"
   ]
  },
  {
   "cell_type": "code",
   "execution_count": 7,
   "metadata": {},
   "outputs": [
    {
     "name": "stdout",
     "output_type": "stream",
     "text": [
      "Test Accuracy of model_active_base10: 0.9692\n"
     ]
    }
   ],
   "source": [
    "seed_loader = DataLoader(seed_dataset, batch_size=64, shuffle=True)\n",
    "\n",
    "model_active_base10 = SimpleCNN()\n",
    "model_active_base10 = train_model(model_active_base10, seed_loader, epochs=5)\n",
    "acc_base = evaluate_model(model_active_base10, test_loader)\n",
    "print(f\"Test Accuracy of model_active_base10: {acc_base:.4f}\")"
   ]
  },
  {
   "cell_type": "markdown",
   "metadata": {},
   "source": [
    "## Training `model_active_grand10` — Random 10% Seed Set + Top 10% from Remaining Data by GraNd Score\n",
    "\n",
    "Now that we have trained our initial baseline model, we use it to compute **GraNd scores** on the remaining 90% of the training data.\n",
    "\n",
    "Why?\n",
    "- The goal is to identify which unlabeled samples are **most informative** for the model.\n",
    "- We use the previously defined `compute_grand_scores()` function to score each sample based on its **gradient norm**.\n",
    "\n",
    "These scores allow us to rank the remaining dataset and select a subset of data that will most improve the model if labeled and included in training.\n"
   ]
  },
  {
   "cell_type": "code",
   "execution_count": 8,
   "metadata": {},
   "outputs": [
    {
     "name": "stderr",
     "output_type": "stream",
     "text": [
      "100%|██████████| 54000/54000 [01:08<00:00, 789.72it/s]\n"
     ]
    }
   ],
   "source": [
    "remaining_loader = DataLoader(remaining_dataset, batch_size=1, shuffle=False)\n",
    "grand_scores = compute_grand_scores(model_active_base10, remaining_loader)"
   ]
  },
  {
   "cell_type": "markdown",
   "metadata": {},
   "source": [
    "We then sort the samples based on their GraNd scores and select the top 10% most informative samples."
   ]
  },
  {
   "cell_type": "code",
   "execution_count": 9,
   "metadata": {},
   "outputs": [],
   "source": [
    "num_grand = len(seed_indices) * 90 // 100  \n",
    "top_indices = np.argsort(grand_scores)[-num_grand:]\n",
    "grand_selected_indices = [remaining_indices[i] for i in top_indices] # 9% of total dataset ~ 5400\n",
    "\n",
    "grand_dataset = Subset(train_dataset, list(seed_indices) + grand_selected_indices)\n",
    "grand_loader = DataLoader(grand_dataset, batch_size=64, shuffle=True)"
   ]
  },
  {
   "cell_type": "code",
   "execution_count": 10,
   "metadata": {},
   "outputs": [
    {
     "name": "stdout",
     "output_type": "stream",
     "text": [
      "Test Accuracy of model_active_grand10: 0.9868\n"
     ]
    }
   ],
   "source": [
    "model_active_grand10 = SimpleCNN()\n",
    "model_active_grand10 = train_model(model_active_grand10, grand_loader, epochs=5)\n",
    "acc_grand = evaluate_model(model_active_grand10, test_loader)\n",
    "print(f\"Test Accuracy of model_active_grand10: {acc_grand:.4f}\")"
   ]
  },
  {
   "cell_type": "markdown",
   "metadata": {},
   "source": [
    "## Training `model_supervised_random19` — Random 10% Seed Set + Random 10% from Remaining Training Data\n",
    "\n",
    "\n",
    "To provide a fair baseline against `model_active_grand10`, this model is trained on the **same total amount of data (19%)**,  \n",
    "but the additional 9% is selected **randomly** from the remaining training samples instead of using GraNd scores.\n",
    "\n",
    "We combine these random samples with the original seed set to create the `random19_dataset`.\n",
    "\n",
    "This dataset will be used to train `model_supervised_random19`, allowing us to isolate the effect of **GraNd vs. random** sample selection with the **same data budget** (total 19%).\n",
    "\n",
    "This is a critical control group for measuring the true value of the GraNd strategy."
   ]
  },
  {
   "cell_type": "code",
   "execution_count": 11,
   "metadata": {},
   "outputs": [],
   "source": [
    "# All indices excluding the seed\n",
    "all_indices = set(np.arange(len(train_dataset)))\n",
    "non_seed_indices = list(all_indices - set(seed_indices))\n",
    "\n",
    "# Randomly select 5400 from the remaining\n",
    "random_selected_indices = np.random.choice(non_seed_indices, size=num_grand, replace=False)\n",
    "random19_indices = np.concatenate([seed_indices, random_selected_indices])\n",
    "\n",
    "random19_dataset = Subset(train_dataset, random19_indices)\n",
    "random19_loader = DataLoader(random19_dataset, batch_size=64, shuffle=True)"
   ]
  },
  {
   "cell_type": "code",
   "execution_count": 12,
   "metadata": {},
   "outputs": [
    {
     "name": "stdout",
     "output_type": "stream",
     "text": [
      "Test Accuracy of model_supervised_random19: 0.9790\n"
     ]
    }
   ],
   "source": [
    "model_supervised_random19 = SimpleCNN()\n",
    "model_supervised_random19 = train_model(model_supervised_random19, random19_loader, epochs=5)\n",
    "acc_random19 = evaluate_model(model_supervised_random19, test_loader)\n",
    "print(f\"Test Accuracy of model_supervised_random19: {acc_random19:.4f}\")"
   ]
  },
  {
   "cell_type": "markdown",
   "metadata": {},
   "source": [
    "## Training `model_supervised_full` — Full Training Dataset (100%)\n",
    "\n",
    "To establish an upper-bound performance reference, we train `model_supervised_full` using the **entire MNIST training dataset**.\n",
    "\n",
    "- This model does **not use any sampling or active learning strategy**.\n",
    "- It represents the best performance we can expect with full supervision.\n",
    "\n",
    "After training, we evaluate its accuracy on the test set and use it to compare with the other models trained on partial data.\n",
    "\n",
    "This model helps answer: “How close can active learning get to full-supervision performance?”"
   ]
  },
  {
   "cell_type": "code",
   "execution_count": 13,
   "metadata": {},
   "outputs": [],
   "source": [
    "full_loader = DataLoader(train_dataset, batch_size=64, shuffle=True)"
   ]
  },
  {
   "cell_type": "code",
   "execution_count": 14,
   "metadata": {},
   "outputs": [
    {
     "name": "stdout",
     "output_type": "stream",
     "text": [
      "Test Accuracy of model_supervised_full: 0.9921\n"
     ]
    }
   ],
   "source": [
    "model_supervised_full = SimpleCNN()\n",
    "model_supervised_full = train_model(model_supervised_full, full_loader, epochs=5)\n",
    "acc_full = evaluate_model(model_supervised_full, test_loader)\n",
    "print(f\"Test Accuracy of model_supervised_full: {acc_full:.4f}\")"
   ]
  },
  {
   "cell_type": "markdown",
   "metadata": {},
   "source": [
    "## 📊 Accuracy Comparison of All Models\n",
    "\n",
    "This section visualizes the performance of all four trained models by comparing their test set accuracy.\n",
    "\n",
    "The bar chart allows us to assess how close GraNd-based active learning gets to full supervision — and whether it outperforms random selection with the same data budget."
   ]
  },
  {
   "cell_type": "code",
   "execution_count": 15,
   "metadata": {},
   "outputs": [
    {
     "data": {
      "image/png": "[encoded data removed]",
      "text/plain": [
       "<Figure size 1000x500 with 1 Axes>"
      ]
     },
     "metadata": {},
     "output_type": "display_data"
    }
   ],
   "source": [
    "import matplotlib.pyplot as plt\n",
    "%matplotlib inline\n",
    "\n",
    "model_names = [\n",
    "    'model_active_base10', \n",
    "    'model_active_grand10', \n",
    "    'model_supervised_random19', \n",
    "    'model_supervised_full'\n",
    "]\n",
    "\n",
    "accuracies = [\n",
    "    acc_base, \n",
    "    acc_grand, \n",
    "    acc_random19, \n",
    "    acc_full\n",
    "]\n",
    "\n",
    "plt.figure(figsize=(10, 5))\n",
    "bars = plt.bar(model_names, accuracies, color=['#6baed6', '#31a354', '#fdae6b', '#d62728'])\n",
    "plt.ylim(0.8, 1.0)\n",
    "plt.ylabel('Accuracy')\n",
    "plt.title('Accuracy Comparison of 4 Models')\n",
    "\n",
    "# Annotate bars with accuracy values\n",
    "for bar in bars:\n",
    "    yval = bar.get_height()\n",
    "    plt.text(bar.get_x() + bar.get_width()/2.0, yval + 0.005, f'{yval:.4f}', ha='center')\n",
    "\n",
    "plt.grid(axis='y', linestyle='--', alpha=0.7)\n",
    "plt.tight_layout()\n",
    "plt.show()\n"
   ]
  },
  {
   "cell_type": "markdown",
   "metadata": {},
   "source": [
    "## 📊 Accuracy Improvement Analysis"
   ]
  },
  {
   "cell_type": "code",
   "execution_count": 16,
   "metadata": {},
   "outputs": [
    {
     "name": "stdout",
     "output_type": "stream",
     "text": [
      "GraNd vs Random (same data): 0.0078\n",
      "GraNd vs Base10 only:        0.0176\n",
      "GraNd vs Full Supervised:    0.0053\n"
     ]
    }
   ],
   "source": [
    "print(f\"GraNd vs Random (same data): {acc_grand - acc_random19:.4f}\")\n",
    "print(f\"GraNd vs Base10 only:        {acc_grand - acc_base:.4f}\")\n",
    "print(f\"GraNd vs Full Supervised:    {acc_full - acc_grand:.4f}\")"
   ]
  },
  {
   "cell_type": "markdown",
   "metadata": {},
   "source": [
    "## 📈 Discussion of Accuracy Differences\n",
    "\n",
    "Based on the printed results above:\n",
    "\n",
    "- **GraNd vs Random (same data): +0.0078**  \n",
    "  Even though both models were trained on the same amount of data (19%), GraNd selection achieved better accuracy.  \n",
    "  ✅ This suggests that GraNd identifies more **informative samples** than random selection.\n",
    "\n",
    "- **GraNd vs Base10 only: +0.0176**  \n",
    "  Adding GraNd-selected samples to the base model improves performance significantly.  \n",
    "  ✅ GraNd helps the model generalize better with only a modest data increase.\n",
    "\n",
    "- **GraNd vs Full Supervised: -0.0053**  \n",
    "  GraNd-trained model almost reaches the performance of the model trained on the full dataset.  \n",
    "  ✅ This demonstrates how **efficient** active learning can be in reducing data requirements.\n",
    "\n",
    "## 💡 Key Insight:\n",
    "With GraNd, you can reach **near-maximum performance** with just a **fraction of the dataset** — ideal for scenarios with limited labeled data.\n"
   ]
  },
  {
   "cell_type": "markdown",
   "metadata": {},
   "source": [
    "# Applying GraNd Sampling to nnU-Net\n",
    "\n",
    "In this section, we demonstrate how the **GraNd active learning strategy** can be extended to **3D medical imaging tasks** using `nnU-Net`, a popular framework for volumetric segmentation — and how you can apply it directly to your **remaining unlabeled data using a pretrained nnU-Net model**.\n",
    "\n",
    "Unlike classification tasks like MNIST, medical images (e.g., MRI/CT) are processed as 3D volumes and require specialized preprocessing and architecture.\n",
    "\n",
    "🎯 Goal:\n",
    "\n",
    "Compute **GraNd scores** for unlabeled 3D NIfTI images to select the most informative volumes for manual annotation — reducing labeling effort in medical segmentation.\n"
   ]
  },
  {
   "cell_type": "markdown",
   "metadata": {},
   "source": [
    "We load a pretrained nnU-Net model and identify the **penultimate convolutional layer** to compute gradient norms from."
   ]
  },
  {
   "cell_type": "code",
   "execution_count": null,
   "metadata": {},
   "outputs": [],
   "source": [
    "import os\n",
    "import pandas as pd\n",
    "import nibabel as nib\n",
    "import torch.nn.functional as F\n",
    "from nnunetv2.inference.predict_from_raw_data import nnUNetPredictor\n",
    "\n",
    "device = torch.device(\"cuda\" if torch.cuda.is_available() else \"cpu\")\n",
    "\n",
    "IMAGE_FOLDER = \"/path/to/training_images_folder\"\n",
    "MODEL_FOLDER = \"/path/to/trained_model_folder\"\n",
    "CHECKPOINT_NAME = \"checkpoint_name\"\n",
    "\n",
    "predictor = nnUNetPredictor(\n",
    "    tile_step_size=0.5,\n",
    "    use_gaussian=True,\n",
    "    use_mirroring=True,\n",
    "    perform_everything_on_device=True,\n",
    "    device=torch.device(\"cuda\"),\n",
    "    verbose=False,\n",
    "    verbose_preprocessing=False,\n",
    "    allow_tqdm=True\n",
    ")\n",
    "\n",
    "predictor.initialize_from_trained_model_folder(\n",
    "    CHECKPOINT_NAME,\n",
    "    use_folds=\"all\",\n",
    "    checkpoint_name=CHECKPOINT_NAME\n",
    ")\n",
    "\n",
    "penultimate_layer = predictor.network.decoder.stages[-1].convs[-1].conv"
   ]
  },
  {
   "cell_type": "markdown",
   "metadata": {},
   "source": [
    "`load_and_preprocess_nifti` helper function reads 3D NIfTI medical images, normalizes the intensity values,  \n",
    "and resamples each volume to a fixed patch size expected by the model.\n",
    "\n",
    "It prepares the data for use in GraNd scoring by:\n",
    "- Converting it to a PyTorch tensor\n",
    "- Normalizing it (zero mean, unit variance)\n",
    "- Resizing to the model’s input shape"
   ]
  },
  {
   "cell_type": "code",
   "execution_count": null,
   "metadata": {},
   "outputs": [],
   "source": [
    "def load_and_preprocess_nifti(image_path, device, patch_size):\n",
    "    # Load the NIfTI file\n",
    "    nii = nib.load(image_path)\n",
    "    image_data = nii.get_fdata().astype(np.float32)\n",
    "\n",
    "    # Convert to torch tensor and add batch and channel dimensions: [1, 1, D, H, W]\n",
    "    image_tensor = torch.from_numpy(image_data).unsqueeze(0).unsqueeze(0).to(device)\n",
    "\n",
    "    # Normalize the image (zero mean, unit variance)\n",
    "    image_tensor = (image_tensor - image_tensor.mean()) / (image_tensor.std() + 1e-8)\n",
    "\n",
    "    # Resize to fixed patch size (using trilinear interpolation)\n",
    "    image_tensor = F.interpolate(image_tensor, size=patch_size, mode='trilinear', align_corners=False)\n",
    "\n",
    "    return image_tensor, nii.affine"
   ]
  },
  {
   "cell_type": "markdown",
   "metadata": {},
   "source": [
    "We use an unsupervised loss (entropy) and backpropagate it through the penultimate layer for each unlabeled NIfTI volume:"
   ]
  },
  {
   "cell_type": "code",
   "execution_count": null,
   "metadata": {},
   "outputs": [],
   "source": [
    "# Fixed patch size for resampling\n",
    "patch_size = (128, 128, 128)\n",
    "\n",
    "def compute_grand_scores(model, image_files, patch_size, device=None):\n",
    "    model.eval()\n",
    "    scores = []\n",
    "    filenames = []\n",
    "\n",
    "    if device is None:\n",
    "        device = next(model.parameters()).device\n",
    "    model.to(device)\n",
    "\n",
    "    for img_file in tqdm(image_files):\n",
    "        img_name = os.path.basename(img_file)\n",
    "        filenames.append(img_name)\n",
    "\n",
    "        try:\n",
    "            image_tensor, _ = load_and_preprocess_nifti(img_file, device, patch_size)\n",
    "            with torch.set_grad_enabled(True):\n",
    "                prediction = model(image_tensor)\n",
    "                loss = -torch.sum(F.softmax(prediction, dim=1) * F.log_softmax(prediction, dim=1))\n",
    "                grads = torch.autograd.grad(loss, penultimate_layer.weight, retain_graph=True)[0]\n",
    "                grad_norm = grads.norm(2).item()\n",
    "                scores.append(grad_norm)\n",
    "        except Exception as e:\n",
    "            print(f\"Error processing {img_name}: {str(e)}\")\n",
    "            scores.append(0.0)\n",
    "\n",
    "    return scores, filenames\n"
   ]
  },
  {
   "cell_type": "markdown",
   "metadata": {},
   "source": [
    "This line retrieves and sorts all `.nii.gz` files from the directory specified by `IMAGE_FOLDER`.  \n",
    "These files represent unlabeled 3D medical images (e.g., MRI/CT scans) that will be used for GraNd scoring.  \n",
    "Sorting ensures a consistent order during processing and later selection steps."
   ]
  },
  {
   "cell_type": "code",
   "execution_count": null,
   "metadata": {},
   "outputs": [],
   "source": [
    "image_files = sorted([os.path.join(IMAGE_FOLDER, f) for f in os.listdir(IMAGE_FOLDER) if f.endswith(\".nii.gz\")])"
   ]
  },
  {
   "cell_type": "markdown",
   "metadata": {},
   "source": [
    "This step uses the pretrained nnU-Net model to compute **GraNd scores** for each unlabeled NIfTI image in `image_files`."
   ]
  },
  {
   "cell_type": "code",
   "execution_count": null,
   "metadata": {},
   "outputs": [
    {
     "name": "stderr",
     "output_type": "stream",
     "text": [
      "100%|██████████| 77/77 [00:04<00:00, 18.03it/s]\n"
     ]
    }
   ],
   "source": [
    "grand_scores, filenames = compute_grand_scores(predictor.network, image_files, patch_size, device=device)"
   ]
  },
  {
   "cell_type": "markdown",
   "metadata": {},
   "source": [
    "After computing GraNd scores, this step sorts all unlabeled images in descending order based on their score values.\n",
    "\n",
    "- The top-k most informative samples (default `k=10`) are printed to the screen.\n",
    "- These examples are assumed to provide the greatest potential for improving model performance if annotated.\n",
    "- The results are saved to a CSV file named `most_informative_examples.csv`, containing the filename and corresponding GraNd score.\n",
    "\n",
    "This ranked list can be used to guide manual annotation efforts in an efficient, data-driven way."
   ]
  },
  {
   "cell_type": "code",
   "execution_count": null,
   "metadata": {},
   "outputs": [
    {
     "name": "stdout",
     "output_type": "stream",
     "text": [
      "\n",
      "Top 10 most informative examples:\n",
      "1. 3144213-20220920-7_0000.nii.gz - GraNd Score: 16884.3047\n",
      "2. 3661601-20220803-14_0000.nii.gz - GraNd Score: 9458.2773\n",
      "3. 12609843-20200609-8_0000.nii.gz - GraNd Score: 7418.3120\n",
      "4. 3939741-20150821-9_0000.nii.gz - GraNd Score: 3501.4294\n",
      "5. 7254639-20111107-102_0000.nii.gz - GraNd Score: 2782.0569\n",
      "6. 7473639-20140828-2_0000.nii.gz - GraNd Score: 2734.0901\n",
      "7. 7385294-20170501-14_0000.nii.gz - GraNd Score: 2483.4429\n",
      "8. 7393730-20150408-9_0000.nii.gz - GraNd Score: 1976.5645\n",
      "9. 7121295-20210419-5_0000.nii.gz - GraNd Score: 1921.9559\n",
      "10. 7291065-20160421-6_0000.nii.gz - GraNd Score: 1893.6211\n",
      "\n",
      "Results saved to 'most_informative_examples.csv'\n"
     ]
    }
   ],
   "source": [
    "# Sort images by their GraNd scores and save top results\n",
    "if len(grand_scores) > 0:\n",
    "    results = list(zip(filenames, grand_scores))\n",
    "    sorted_results = sorted(results, key=lambda x: x[1], reverse=True)\n",
    "    top_k = 10\n",
    "    top_results = sorted_results[:min(top_k, len(sorted_results))]\n",
    "\n",
    "    print(f\"\\nTop {len(top_results)} most informative examples:\")\n",
    "    for i, (filename, score) in enumerate(top_results):\n",
    "        print(f\"{i+1}. {filename} - GraNd Score: {score:.4f}\")\n",
    "\n",
    "    # Save results to a CSV file\n",
    "    df_results = pd.DataFrame(top_results, columns=[\"Filename\", \"GraNd Score\"])\n",
    "    output_csv = \"most_informative_examples.csv\"\n",
    "    df_results.to_csv(output_csv, index=False)\n",
    "\n",
    "    print(f\"\\nResults saved to '{output_csv}'\")\n",
    "\n",
    "else:\n",
    "    print(\"No scores were calculated successfully.\")"
   ]
  },
  {
   "cell_type": "markdown",
   "metadata": {},
   "source": [
    "# Conclusion\n",
    "\n",
    "In this notebook, you implemented and compared several training strategies to explore the impact of **GraNd-based active learning** in both simple and complex settings:\n",
    "\n",
    "- You learned how to train a baseline model using only a **random 10% seed set**.\n",
    "- You computed **GraNd (Gradient Norm) scores** to identify the most informative samples **without using labels**.\n",
    "- You trained a model using GraNd-selected data and compared it to a model trained on randomly selected data of the same size.\n",
    "- You also trained a fully supervised model on the entire dataset to establish an upper-bound performance reference.\n",
    "- Finally, you extended the same GraNd strategy to a **3D medical image segmentation task using nnU-Net**, demonstrating how active learning can reduce labeling effort in healthcare AI applications.\n",
    "\n",
    "Through this workflow, you saw how **GraNd helps prioritize the most impactful samples**, allowing you to approach full-supervision performance with significantly less labeled data.\n",
    "\n",
    "> The ability to **rank unlabeled data by learning potential** is a powerful tool — especially in real-world domains where annotation is expensive, such as medical imaging.\n",
    "\n",
    "You can now confidently apply GraNd in your own projects to **train smarter, not harder** 🚀\n"
   ]
  }
 ],
 "metadata": {
  "kernelspec": {
   "display_name": "base",
   "language": "python",
   "name": "python3"
  },
  "language_info": {
   "codemirror_mode": {
    "name": "ipython",
    "version": 3
   },
   "file_extension": ".py",
   "mimetype": "text/x-python",
   "name": "python",
   "nbconvert_exporter": "python",
   "pygments_lexer": "ipython3",
   "version": "3.12.4"
  }
 },
 "nbformat": 4,
 "nbformat_minor": 2
}
